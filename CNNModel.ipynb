{
  "cells": [
    {
      "cell_type": "markdown",
      "metadata": {
        "id": "view-in-github",
        "colab_type": "text"
      },
      "source": [
        "<a href=\"https://colab.research.google.com/github/Krixna-Kant/Infosys-Springboard-AI-ML-Internship/blob/main/CNNModel.ipynb\" target=\"_parent\"><img src=\"https://colab.research.google.com/assets/colab-badge.svg\" alt=\"Open In Colab\"/></a>"
      ]
    },
    {
      "cell_type": "code",
      "execution_count": 1,
      "metadata": {
        "id": "XBg7ndFqrJjS"
      },
      "outputs": [],
      "source": [
        "import torch\n",
        "import torch.nn as nn #Imports PyTorch's neural network module, which includes classes for building and training neural networks.\n",
        "#used while applying deep learning\n",
        "import torch.optim as optim #implementing optimization algorithms like SGD and Adam\n",
        "from torchvision import datasets, transforms #for preprocessing\n",
        "from torch.utils.data import DataLoader #load datasets Tin batches for training and testing\n",
        "import matplotlib.pyplot as plt #Interactive and animated visualizations\n",
        "from sklearn.metrics import confusion_matrix, classification_report #used for classification model evaluation\n",
        "#informative statistical graphics\n",
        "import seaborn as sns"
      ]
    },
    {
      "cell_type": "code",
      "execution_count": 2,
      "metadata": {
        "colab": {
          "base_uri": "https://localhost:8080/"
        },
        "id": "cViNsIT0rOhJ",
        "outputId": "9dfd4bbd-fbf4-4ca6-eb37-b774b3b39196"
      },
      "outputs": [
        {
          "output_type": "stream",
          "name": "stdout",
          "text": [
            "Using device: cpu\n"
          ]
        }
      ],
      "source": [
        "# Check for GPU availability\n",
        "device = torch.device(\"cuda\" if torch.cuda.is_available() else \"cpu\")\n",
        "print(f\"Using device: {device}\")"
      ]
    },
    {
      "cell_type": "code",
      "execution_count": 3,
      "metadata": {
        "colab": {
          "base_uri": "https://localhost:8080/"
        },
        "id": "QYhaeFsdrkaX",
        "outputId": "d7478cd4-33c3-4727-eafd-f778f0c154d7"
      },
      "outputs": [
        {
          "output_type": "stream",
          "name": "stdout",
          "text": [
            "Downloading http://yann.lecun.com/exdb/mnist/train-images-idx3-ubyte.gz\n",
            "Failed to download (trying next):\n",
            "HTTP Error 403: Forbidden\n",
            "\n",
            "Downloading https://ossci-datasets.s3.amazonaws.com/mnist/train-images-idx3-ubyte.gz\n",
            "Downloading https://ossci-datasets.s3.amazonaws.com/mnist/train-images-idx3-ubyte.gz to ./data/MNIST/raw/train-images-idx3-ubyte.gz\n"
          ]
        },
        {
          "output_type": "stream",
          "name": "stderr",
          "text": [
            "100%|██████████| 9.91M/9.91M [00:00<00:00, 16.7MB/s]\n"
          ]
        },
        {
          "output_type": "stream",
          "name": "stdout",
          "text": [
            "Extracting ./data/MNIST/raw/train-images-idx3-ubyte.gz to ./data/MNIST/raw\n",
            "\n",
            "Downloading http://yann.lecun.com/exdb/mnist/train-labels-idx1-ubyte.gz\n",
            "Failed to download (trying next):\n",
            "HTTP Error 403: Forbidden\n",
            "\n",
            "Downloading https://ossci-datasets.s3.amazonaws.com/mnist/train-labels-idx1-ubyte.gz\n",
            "Downloading https://ossci-datasets.s3.amazonaws.com/mnist/train-labels-idx1-ubyte.gz to ./data/MNIST/raw/train-labels-idx1-ubyte.gz\n"
          ]
        },
        {
          "output_type": "stream",
          "name": "stderr",
          "text": [
            "100%|██████████| 28.9k/28.9k [00:00<00:00, 494kB/s]\n"
          ]
        },
        {
          "output_type": "stream",
          "name": "stdout",
          "text": [
            "Extracting ./data/MNIST/raw/train-labels-idx1-ubyte.gz to ./data/MNIST/raw\n",
            "\n",
            "Downloading http://yann.lecun.com/exdb/mnist/t10k-images-idx3-ubyte.gz\n",
            "Failed to download (trying next):\n",
            "HTTP Error 403: Forbidden\n",
            "\n",
            "Downloading https://ossci-datasets.s3.amazonaws.com/mnist/t10k-images-idx3-ubyte.gz\n",
            "Downloading https://ossci-datasets.s3.amazonaws.com/mnist/t10k-images-idx3-ubyte.gz to ./data/MNIST/raw/t10k-images-idx3-ubyte.gz\n"
          ]
        },
        {
          "output_type": "stream",
          "name": "stderr",
          "text": [
            "100%|██████████| 1.65M/1.65M [00:00<00:00, 4.58MB/s]\n"
          ]
        },
        {
          "output_type": "stream",
          "name": "stdout",
          "text": [
            "Extracting ./data/MNIST/raw/t10k-images-idx3-ubyte.gz to ./data/MNIST/raw\n",
            "\n",
            "Downloading http://yann.lecun.com/exdb/mnist/t10k-labels-idx1-ubyte.gz\n",
            "Failed to download (trying next):\n",
            "HTTP Error 403: Forbidden\n",
            "\n",
            "Downloading https://ossci-datasets.s3.amazonaws.com/mnist/t10k-labels-idx1-ubyte.gz\n",
            "Downloading https://ossci-datasets.s3.amazonaws.com/mnist/t10k-labels-idx1-ubyte.gz to ./data/MNIST/raw/t10k-labels-idx1-ubyte.gz\n"
          ]
        },
        {
          "output_type": "stream",
          "name": "stderr",
          "text": [
            "100%|██████████| 4.54k/4.54k [00:00<00:00, 4.88MB/s]"
          ]
        },
        {
          "output_type": "stream",
          "name": "stdout",
          "text": [
            "Extracting ./data/MNIST/raw/t10k-labels-idx1-ubyte.gz to ./data/MNIST/raw\n",
            "\n"
          ]
        },
        {
          "output_type": "stream",
          "name": "stderr",
          "text": [
            "\n"
          ]
        }
      ],
      "source": [
        "# =====================\n",
        "# Data Preprocessing\n",
        "# =====================\n",
        "# Train and Test Transformations\n",
        "\n",
        "# Define a sequence of transformations to apply to training data\n",
        "train_transform = transforms.Compose([\n",
        "    # Randomly flip the image horizontally, making the model invariant to horizontal orientation.\n",
        "    transforms.RandomHorizontalFlip(),\n",
        "\n",
        "    # Randomly crop the image to a size of 32x32 pixels with 4 pixels of padding,\n",
        "    # adding variety to the training data for better generalization.\n",
        "    transforms.RandomCrop(28),\n",
        "\n",
        "    # Convert the image from a PIL image or NumPy array to a PyTorch tensor,\n",
        "    # which is the format required for PyTorch models.\n",
        "    transforms.ToTensor(),\n",
        "\n",
        "    # Normalize the tensor image by subtracting a mean of (0.5, 0.5, 0.5) and dividing by\n",
        "    # a standard deviation of (0.5, 0.5, 0.5) for each of the three RGB channels.\n",
        "    # This scales the pixel values to the range [-1, 1], improving model performance.\n",
        "    transforms.Normalize((0.5, 0.5, 0.5), (0.5, 0.5, 0.5))\n",
        "])\n",
        "\n",
        "# Define a sequence of transformations to apply to test data (simpler than training transformations)\n",
        "test_transform = transforms.Compose([\n",
        "    # Convert the image to a PyTorch tensor, preparing it for input to the model.\n",
        "    transforms.ToTensor(),\n",
        "\n",
        "    # Normalize the test image in the same way as the training data to ensure consistency,\n",
        "    # scaling the pixel values to the range [-1, 1].\n",
        "    transforms.Normalize((0.5, 0.5, 0.5), (0.5, 0.5, 0.5))\n",
        "])\n",
        "\n",
        "\n",
        "\n",
        "# Loading CIFAR-10 Dataset i.e  popular dataset in the field of computer vision, used for object recognition tasks 60,000 32x32 color images\n",
        "#divided into 10 classes, with 6,000 images per class\n",
        "\n",
        "train_dataset = datasets.MNIST(root='./data', train=True, download=True, transform=transforms.Compose([transforms.ToTensor(), transforms.Normalize((0.5,), (0.5,))]))\n",
        "test_dataset = datasets.MNIST(root='./data', train=False, download=True, transform=transforms.Compose([transforms.ToTensor(), transforms.Normalize((0.5,), (0.5,))]))\n",
        "\n",
        "train_loader = DataLoader(train_dataset, batch_size=64, shuffle=True)\n",
        "test_loader = DataLoader(test_dataset, batch_size=64, shuffle=False)"
      ]
    },
    {
      "cell_type": "code",
      "execution_count": 9,
      "metadata": {
        "id": "xLoKfaulrq2X"
      },
      "outputs": [],
      "source": [
        "# =====================\n",
        "# CNN Model Definition\n",
        "# =====================\n",
        "# Defines a Convolutional Neural Network (CNN) model by extending the `nn.Module` class.\n",
        "class CNNModel(nn.Module):\n",
        "    def __init__(self):\n",
        "        # Initialize the parent class `nn.Module`.\n",
        "        super(CNNModel, self).__init__()\n",
        "\n",
        "        # Defines the first convolutional layer.\n",
        "        # It takes 3 input channels (RGB), outputs 32 feature maps, with a kernel size of 3x3.\n",
        "        # Padding of 1 ensures the output size remains the same as the input size.\n",
        "        self.conv1 = nn.Conv2d(1, 32, kernel_size=3, padding=1)\n",
        "\n",
        "        # Defines the second convolutional layer.\n",
        "        # It takes 32 input channels (from the previous layer) and outputs 64 feature maps.\n",
        "        self.conv2 = nn.Conv2d(32, 64, kernel_size=3, padding=1)\n",
        "\n",
        "        # Defines the third convolutional layer.\n",
        "        # It takes 64 input channels and outputs 128 feature maps.\n",
        "        self.conv3 = nn.Conv2d(64, 128, kernel_size=3, padding=1)\n",
        "\n",
        "        # Defines a max pooling layer with a 2x2 filter and a stride of 2.\n",
        "        # This reduces the spatial dimensions (height and width) of the feature maps by half.\n",
        "        self.pool = nn.MaxPool2d(2, 2)\n",
        "\n",
        "        # Defines the first fully connected (dense) layer.\n",
        "        # It takes the flattened input size of `128 * 4 * 4` and outputs 256 neurons.\n",
        "        self.fc1 = nn.Linear(128 * 3 * 3, 512)\n",
        "\n",
        "        # Defines the second fully connected layer.\n",
        "        # It takes 256 input neurons and outputs 10 neurons (for 10 classes, e.g., CIFAR-10).\n",
        "        self.fc2 = nn.Linear(512, 10)\n",
        "\n",
        "        # Defines the ReLU (Rectified Linear Unit) activation function.\n",
        "        # This introduces non-linearity to the network and helps learn complex patterns.\n",
        "        self.relu = nn.ReLU()\n",
        "\n",
        "        # Defines a dropout layer with a probability of 0.5.\n",
        "        # This helps prevent overfitting by randomly setting 50% of the neurons to 0 during training.\n",
        "        self.dropout = nn.Dropout(0.5)\n",
        "\n",
        "    # Defines the forward pass (how the data flows through the network).\n",
        "    def forward(self, x):\n",
        "        # Applies the first convolutional layer, followed by ReLU activation and max pooling.\n",
        "        x = self.pool(self.relu(self.conv1(x)))\n",
        "\n",
        "        # Applies the second convolutional layer, followed by ReLU activation and max pooling.\n",
        "        x = self.pool(self.relu(self.conv2(x)))\n",
        "\n",
        "        # Applies the third convolutional layer, followed by ReLU activation and max pooling.\n",
        "        x = self.pool(self.relu(self.conv3(x)))\n",
        "\n",
        "        # Flatten the output from 3D (channels, height, width) to 1D (for fully connected layers).\n",
        "        x = x.view(x.size(0), -1)  # `x.size(0)` is the batch size.\n",
        "\n",
        "        # Pass the flattened data through the first fully connected layer, followed by ReLU activation.\n",
        "        x = self.relu(self.fc1(x))\n",
        "\n",
        "        # Applies dropout to the output of the first fully connected layer.\n",
        "        x = self.dropout(x)\n",
        "\n",
        "        # Pass the result through the second fully connected layer (output layer).\n",
        "        x = self.fc2(x)\n",
        "\n",
        "        # Returns the final output (logits for 10 classes).\n",
        "        return x\n",
        "\n",
        "# Create an instance of the CNN model.\n",
        "# Move the model to the specified device (CPU or GPU) for computation.\n",
        "model = CNNModel().to(device)\n",
        "\n"
      ]
    },
    {
      "cell_type": "code",
      "execution_count": 10,
      "metadata": {
        "colab": {
          "base_uri": "https://localhost:8080/"
        },
        "id": "ZNwYFvU7rtyh",
        "outputId": "c3e32904-1df0-4e40-c338-0b2b91321f60"
      },
      "outputs": [
        {
          "output_type": "stream",
          "name": "stdout",
          "text": [
            "Epoch 1/10, Training Loss: 0.1796\n",
            "Epoch 2/10, Training Loss: 0.0509\n",
            "Epoch 3/10, Training Loss: 0.0358\n",
            "Epoch 4/10, Training Loss: 0.0296\n",
            "Epoch 5/10, Training Loss: 0.0229\n",
            "Epoch 6/10, Training Loss: 0.0203\n",
            "Epoch 7/10, Training Loss: 0.0179\n",
            "Epoch 8/10, Training Loss: 0.0150\n",
            "Epoch 9/10, Training Loss: 0.0127\n",
            "Epoch 10/10, Training Loss: 0.0119\n"
          ]
        }
      ],
      "source": [
        "\n",
        "# =====================\n",
        "# Training Setup\n",
        "# =====================\n",
        "# Define the loss function (CrossEntropyLoss is used for classification problems)\n",
        "criterion = nn.CrossEntropyLoss()\n",
        "\n",
        "# Define the optimizer (Adam optimizer with a learning rate of 0.001)\n",
        "optimizer = optim.Adam(model.parameters(), lr=0.001)\n",
        "\n",
        "# =====================\n",
        "# Training the Model\n",
        "# =====================\n",
        "num_epochs = 10  # Number of epochs for training\n",
        "train_losses, test_losses = [], []  # Lists to store training and testing losses for each epoch\n",
        "\n",
        "# Loop through the specified number of epochs\n",
        "for epoch in range(num_epochs):\n",
        "    model.train()  # Set the model to training mode\n",
        "    running_loss = 0.0  # Initialize the running loss for this epoch\n",
        "\n",
        "    # Iterate through the batches in the training data\n",
        "    for images, labels in train_loader:\n",
        "        # Move the input data (images and labels) to the selected device (CPU or GPU)\n",
        "        images, labels = images.to(device), labels.to(device)\n",
        "\n",
        "        # Reset the gradients for the optimizer\n",
        "        optimizer.zero_grad()\n",
        "\n",
        "        # Forward pass: Compute model predictions\n",
        "        outputs = model(images)\n",
        "\n",
        "        # Compute the loss between predicted and actual labels\n",
        "        loss = criterion(outputs, labels)\n",
        "\n",
        "        # Backward pass: Calculate gradients for model parameters\n",
        "        loss.backward()\n",
        "\n",
        "        # Update the model parameters using the optimizer\n",
        "        optimizer.step()\n",
        "\n",
        "        # Accumulate the loss for this batch\n",
        "        running_loss += loss.item()\n",
        "\n",
        "    # Calculate the average training loss for the current epoch and store it\n",
        "    train_losses.append(running_loss / len(train_loader))\n",
        "\n",
        "    # Print the training loss for this epoch\n",
        "    print(f\"Epoch {epoch+1}/{num_epochs}, Training Loss: {running_loss / len(train_loader):.4f}\")\n"
      ]
    },
    {
      "cell_type": "code",
      "execution_count": 11,
      "metadata": {
        "colab": {
          "base_uri": "https://localhost:8080/"
        },
        "id": "FaA0PCxc3O-d",
        "outputId": "6d9a3f4c-ee92-4389-caa2-675836d4b5fe"
      },
      "outputs": [
        {
          "output_type": "stream",
          "name": "stdout",
          "text": [
            "Accuracy of the model on the test set: 99.42%\n"
          ]
        }
      ],
      "source": [
        "# =====================\n",
        "# Evaluating the Model\n",
        "# =====================\n",
        "model.eval()\n",
        "correct = 0\n",
        "total = 0\n",
        "predictions = []\n",
        "true_labels = []\n",
        "\n",
        "with torch.no_grad():\n",
        "    for images, labels in test_loader:\n",
        "        images, labels = images.to(device), labels.to(device)\n",
        "        outputs = model(images)\n",
        "        _, predicted = torch.max(outputs.data, 1)\n",
        "        total += labels.size(0)\n",
        "        correct += (predicted == labels).sum().item()\n",
        "        predictions.extend(predicted.cpu().numpy())\n",
        "        true_labels.extend(labels.cpu().numpy())\n",
        "\n",
        "accuracy = 100 * correct / total\n",
        "print(f\"Accuracy of the model on the test set: {accuracy:.2f}%\")\n",
        "\n",
        "\n"
      ]
    },
    {
      "cell_type": "code",
      "execution_count": 12,
      "metadata": {
        "colab": {
          "base_uri": "https://localhost:8080/",
          "height": 960
        },
        "id": "vjAT-3687vz6",
        "outputId": "371f0918-cc06-4ee7-decf-6bdcaef5b621"
      },
      "outputs": [
        {
          "output_type": "display_data",
          "data": {
            "text/plain": [
              "<Figure size 1000x800 with 2 Axes>"
            ],
            "image/png": "[encoded data removed]"
          },
          "metadata": {}
        },
        {
          "output_type": "stream",
          "name": "stdout",
          "text": [
            "Classification Report:\n",
            "\n",
            "              precision    recall  f1-score   support\n",
            "\n",
            "    0 - zero       0.99      1.00      0.99       980\n",
            "     1 - one       1.00      1.00      1.00      1135\n",
            "     2 - two       1.00      0.99      1.00      1032\n",
            "   3 - three       1.00      1.00      1.00      1010\n",
            "    4 - four       1.00      0.99      0.99       982\n",
            "    5 - five       1.00      0.99      0.99       892\n",
            "     6 - six       1.00      0.99      0.99       958\n",
            "   7 - seven       0.99      1.00      0.99      1028\n",
            "   8 - eight       1.00      1.00      1.00       974\n",
            "    9 - nine       0.99      0.99      0.99      1009\n",
            "\n",
            "    accuracy                           0.99     10000\n",
            "   macro avg       0.99      0.99      0.99     10000\n",
            "weighted avg       0.99      0.99      0.99     10000\n",
            "\n"
          ]
        }
      ],
      "source": [
        "# =====================\n",
        "# Confusion Matrix\n",
        "# =====================\n",
        "cm = confusion_matrix(true_labels, predictions)\n",
        "plt.figure(figsize=(10, 8))\n",
        "sns.heatmap(cm, annot=True, fmt='d', cmap='Blues', xticklabels=train_dataset.classes, yticklabels=train_dataset.classes)\n",
        "plt.xlabel('Predicted')\n",
        "plt.ylabel('True')\n",
        "plt.title('Confusion Matrix')\n",
        "plt.show()\n",
        "\n",
        "# Classification Report\n",
        "print(\"Classification Report:\\n\")\n",
        "print(classification_report(true_labels, predictions, target_names=train_dataset.classes))"
      ]
    },
    {
      "cell_type": "code",
      "execution_count": 13,
      "metadata": {
        "colab": {
          "base_uri": "https://localhost:8080/"
        },
        "id": "8KuDBvwTqT6r",
        "outputId": "c1e336c5-aa14-47d7-87d6-522b5e8443db"
      },
      "outputs": [
        {
          "output_type": "stream",
          "name": "stdout",
          "text": [
            "Class\tPrecision\tRecall\t\tF1-Score\n",
            "0\t0.99\t\t1.00\t\t0.99\n",
            "1\t1.00\t\t1.00\t\t1.00\n",
            "2\t1.00\t\t0.99\t\t1.00\n",
            "3\t1.00\t\t1.00\t\t1.00\n",
            "4\t1.00\t\t0.99\t\t0.99\n",
            "5\t1.00\t\t0.99\t\t0.99\n",
            "6\t1.00\t\t0.99\t\t0.99\n",
            "7\t0.99\t\t1.00\t\t0.99\n",
            "8\t1.00\t\t1.00\t\t1.00\n",
            "9\t0.99\t\t0.99\t\t0.99\n",
            "\n",
            "Macro-Average Metrics:\n",
            "Precision: 0.99\n",
            "Recall: 0.99\n",
            "F1-Score: 0.99\n"
          ]
        }
      ],
      "source": [
        "#classfication report without sklearn:\n",
        "\n",
        "def calculate_metrics(actual_labels, predicted_labels, num_classes=10):\n",
        "    # Initialize counts\n",
        "    true_positive = [0] * num_classes\n",
        "    false_positive = [0] * num_classes\n",
        "    false_negative = [0] * num_classes\n",
        "\n",
        "    # Populate TP, FP, FN for each class\n",
        "    for i in range(len(actual_labels)):\n",
        "        true_label = int(actual_labels[i])\n",
        "        pred_label = int(predicted_labels[i])\n",
        "        if true_label == pred_label:\n",
        "            true_positive[true_label] += 1\n",
        "        else:\n",
        "            false_positive[pred_label] += 1\n",
        "            false_negative[true_label] += 1\n",
        "\n",
        "    # Calculate precision, recall, and F1-score for each class\n",
        "    precision = []\n",
        "    recall = []\n",
        "    f1_score = []\n",
        "\n",
        "    for i in range(num_classes):\n",
        "        tp = true_positive[i]\n",
        "        fp = false_positive[i]\n",
        "        fn = false_negative[i]\n",
        "\n",
        "        # Precision: TP / (TP + FP)\n",
        "        p = tp / (tp + fp) if (tp + fp) > 0 else 0.0\n",
        "        precision.append(p)\n",
        "\n",
        "        # Recall: TP / (TP + FN)\n",
        "        r = tp / (tp + fn) if (tp + fn) > 0 else 0.0\n",
        "        recall.append(r)\n",
        "\n",
        "        # F1-Score: 2 * (Precision * Recall) / (Precision + Recall)\n",
        "        f1 = 2 * (p * r) / (p + r) if (p + r) > 0 else 0.0\n",
        "        f1_score.append(f1)\n",
        "\n",
        "    # Calculate macro-average\n",
        "    macro_precision = sum(precision) / num_classes\n",
        "    macro_recall = sum(recall) / num_classes\n",
        "    macro_f1 = sum(f1_score) / num_classes\n",
        "\n",
        "    # Print results\n",
        "    print(\"Class\\tPrecision\\tRecall\\t\\tF1-Score\")\n",
        "    for i in range(num_classes):\n",
        "        print(f\"{i}\\t{precision[i]:.2f}\\t\\t{recall[i]:.2f}\\t\\t{f1_score[i]:.2f}\")\n",
        "\n",
        "    print(\"\\nMacro-Average Metrics:\")\n",
        "    print(f\"Precision: {macro_precision:.2f}\")\n",
        "    print(f\"Recall: {macro_recall:.2f}\")\n",
        "    print(f\"F1-Score: {macro_f1:.2f}\")\n",
        "\n",
        "    return precision, recall, f1_score, macro_precision, macro_recall, macro_f1\n",
        "\n",
        "\n",
        "\n",
        "\n",
        "# Assuming act_labels and model_predicted are tensors from the test phase\n",
        "precision, recall, f1_score, macro_precision, macro_recall, macro_f1 = calculate_metrics(\n",
        "    true_labels, predictions, num_classes=10\n",
        ")"
      ]
    },
    {
      "cell_type": "code",
      "execution_count": 14,
      "metadata": {
        "id": "YcJgKRC0yRlS"
      },
      "outputs": [],
      "source": [
        "!git config --global user.name \"Krixna-Kant\"\n",
        "!git config --global user.email \"kant19krishna@gmail.com\"\n"
      ]
    },
    {
      "cell_type": "code",
      "source": [
        "!git clone https://github.com/Krixna-Kant/Infosys-Springboard-AI-ML-Internship"
      ],
      "metadata": {
        "colab": {
          "base_uri": "https://localhost:8080/"
        },
        "id": "RrMf5E1Ws4t_",
        "outputId": "8517d221-e70a-4de7-f8aa-682c5f95b4e8"
      },
      "execution_count": 15,
      "outputs": [
        {
          "output_type": "stream",
          "name": "stdout",
          "text": [
            "Cloning into 'Infosys-Springboard-AI-ML-Internship'...\n",
            "remote: Enumerating objects: 6, done.\u001b[K\n",
            "remote: Counting objects: 100% (6/6), done.\u001b[K\n",
            "remote: Compressing objects: 100% (4/4), done.\u001b[K\n",
            "remote: Total 6 (delta 0), reused 0 (delta 0), pack-reused 0 (from 0)\u001b[K\n",
            "Receiving objects: 100% (6/6), done.\n"
          ]
        }
      ]
    },
    {
      "cell_type": "code",
      "source": [
        "!ls\n"
      ],
      "metadata": {
        "colab": {
          "base_uri": "https://localhost:8080/"
        },
        "id": "H7H9AlAAuG3j",
        "outputId": "3d3dbb7c-ad21-47a1-fa46-db9fb09c3ad9"
      },
      "execution_count": 22,
      "outputs": [
        {
          "output_type": "stream",
          "name": "stdout",
          "text": [
            "data  Infosys-Springboard-AI-ML-Internship  sample_data\n"
          ]
        }
      ]
    }
  ],
  "metadata": {
    "colab": {
      "provenance": [],
      "include_colab_link": true
    },
    "kernelspec": {
      "display_name": "Python 3",
      "name": "python3"
    },
    "language_info": {
      "name": "python"
    }
  },
  "nbformat": 4,
  "nbformat_minor": 0
}